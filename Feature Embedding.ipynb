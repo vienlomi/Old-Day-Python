{
 "cells": [
  {
   "cell_type": "code",
   "execution_count": 7,
   "metadata": {},
   "outputs": [],
   "source": [
    "def back_sub(R, b_tilde):\n",
    "    n = R.shape[0]\n",
    "    x = np.zeros(n)\n",
    "    for i in reversed(range(n)):\n",
    "        x[i] = b_tilde[i]\n",
    "        for j in range(i+1, n):\n",
    "            x[i] = x[i] - R[i][j]*x[j]\n",
    "        x[i] = x[i]/R[i,i]\n",
    "    return x\n",
    "\n",
    "def solve_via_backsub(A, b):\n",
    "    Q, R = np.linalg.qr(A)\n",
    "    b_tilde = Q.T @ b\n",
    "    return back_sub(R, b_tilde)"
   ]
  },
  {
   "cell_type": "code",
   "execution_count": 8,
   "metadata": {},
   "outputs": [],
   "source": [
    "import numpy as np\n",
    "import pandas as pd\n",
    "import matplotlib.pyplot as plt"
   ]
  },
  {
   "cell_type": "code",
   "execution_count": 9,
   "metadata": {},
   "outputs": [],
   "source": [
    "import json\n",
    "f = open('wildfire_data.json')\n",
    "f = json.load(f)"
   ]
  },
  {
   "cell_type": "code",
   "execution_count": 10,
   "metadata": {},
   "outputs": [],
   "source": [
    "f1 = np.array(f['U']['data'])"
   ]
  },
  {
   "cell_type": "code",
   "execution_count": 11,
   "metadata": {},
   "outputs": [],
   "source": [
    "target = f['v']['data']"
   ]
  },
  {
   "cell_type": "code",
   "execution_count": 12,
   "metadata": {},
   "outputs": [],
   "source": [
    "features = pd.DataFrame({'x': f1[:,0],\n",
    "                         'y': f1[:,1],\n",
    "                         'month': f1[:,2],\n",
    "                        'FFMC': f1[:,3],\n",
    "                        'temp': f1[:,4],\n",
    "                        'wind': f1[:,5],\n",
    "                        'rain': f1[:,6],\n",
    "                        'area': target})"
   ]
  },
  {
   "cell_type": "code",
   "execution_count": 14,
   "metadata": {},
   "outputs": [],
   "source": [
    "I = np.random.permutation(features.shape[0])\n",
    "t = int(np.floor(features.shape[0]*0.8))\n",
    "Itrain = I[:t]\n",
    "Itest = I[t:]\n",
    "train = features.iloc[Itrain]\n",
    "test = features.iloc[Itest]"
   ]
  },
  {
   "cell_type": "code",
   "execution_count": 15,
   "metadata": {},
   "outputs": [
    {
     "data": {
      "text/html": [
       "<div>\n",
       "<style scoped>\n",
       "    .dataframe tbody tr th:only-of-type {\n",
       "        vertical-align: middle;\n",
       "    }\n",
       "\n",
       "    .dataframe tbody tr th {\n",
       "        vertical-align: top;\n",
       "    }\n",
       "\n",
       "    .dataframe thead th {\n",
       "        text-align: right;\n",
       "    }\n",
       "</style>\n",
       "<table border=\"1\" class=\"dataframe\">\n",
       "  <thead>\n",
       "    <tr style=\"text-align: right;\">\n",
       "      <th></th>\n",
       "      <th>x</th>\n",
       "      <th>y</th>\n",
       "      <th>month</th>\n",
       "      <th>FFMC</th>\n",
       "      <th>temp</th>\n",
       "      <th>wind</th>\n",
       "      <th>rain</th>\n",
       "      <th>area</th>\n",
       "    </tr>\n",
       "  </thead>\n",
       "  <tbody>\n",
       "    <tr>\n",
       "      <th>count</th>\n",
       "      <td>413.000000</td>\n",
       "      <td>413.000000</td>\n",
       "      <td>413.000000</td>\n",
       "      <td>413.000000</td>\n",
       "      <td>413.000000</td>\n",
       "      <td>413.000000</td>\n",
       "      <td>413.000000</td>\n",
       "      <td>413.000000</td>\n",
       "    </tr>\n",
       "    <tr>\n",
       "      <th>mean</th>\n",
       "      <td>4.636804</td>\n",
       "      <td>4.259080</td>\n",
       "      <td>7.440678</td>\n",
       "      <td>90.562228</td>\n",
       "      <td>18.831719</td>\n",
       "      <td>4.099274</td>\n",
       "      <td>0.026634</td>\n",
       "      <td>1.116448</td>\n",
       "    </tr>\n",
       "    <tr>\n",
       "      <th>std</th>\n",
       "      <td>2.310550</td>\n",
       "      <td>1.237832</td>\n",
       "      <td>2.325354</td>\n",
       "      <td>5.946495</td>\n",
       "      <td>5.879806</td>\n",
       "      <td>1.814672</td>\n",
       "      <td>0.330882</td>\n",
       "      <td>1.392939</td>\n",
       "    </tr>\n",
       "    <tr>\n",
       "      <th>min</th>\n",
       "      <td>1.000000</td>\n",
       "      <td>2.000000</td>\n",
       "      <td>1.000000</td>\n",
       "      <td>18.700000</td>\n",
       "      <td>2.200000</td>\n",
       "      <td>0.900000</td>\n",
       "      <td>0.000000</td>\n",
       "      <td>0.000000</td>\n",
       "    </tr>\n",
       "    <tr>\n",
       "      <th>25%</th>\n",
       "      <td>3.000000</td>\n",
       "      <td>4.000000</td>\n",
       "      <td>7.000000</td>\n",
       "      <td>90.200000</td>\n",
       "      <td>15.400000</td>\n",
       "      <td>2.700000</td>\n",
       "      <td>0.000000</td>\n",
       "      <td>0.000000</td>\n",
       "    </tr>\n",
       "    <tr>\n",
       "      <th>50%</th>\n",
       "      <td>4.000000</td>\n",
       "      <td>4.000000</td>\n",
       "      <td>8.000000</td>\n",
       "      <td>91.600000</td>\n",
       "      <td>19.300000</td>\n",
       "      <td>4.000000</td>\n",
       "      <td>0.000000</td>\n",
       "      <td>0.438255</td>\n",
       "    </tr>\n",
       "    <tr>\n",
       "      <th>75%</th>\n",
       "      <td>7.000000</td>\n",
       "      <td>5.000000</td>\n",
       "      <td>9.000000</td>\n",
       "      <td>92.800000</td>\n",
       "      <td>22.800000</td>\n",
       "      <td>5.400000</td>\n",
       "      <td>0.000000</td>\n",
       "      <td>2.057963</td>\n",
       "    </tr>\n",
       "    <tr>\n",
       "      <th>max</th>\n",
       "      <td>9.000000</td>\n",
       "      <td>9.000000</td>\n",
       "      <td>12.000000</td>\n",
       "      <td>96.200000</td>\n",
       "      <td>33.300000</td>\n",
       "      <td>9.400000</td>\n",
       "      <td>6.400000</td>\n",
       "      <td>6.995620</td>\n",
       "    </tr>\n",
       "  </tbody>\n",
       "</table>\n",
       "</div>"
      ],
      "text/plain": [
       "                x           y       month        FFMC        temp        wind  \\\n",
       "count  413.000000  413.000000  413.000000  413.000000  413.000000  413.000000   \n",
       "mean     4.636804    4.259080    7.440678   90.562228   18.831719    4.099274   \n",
       "std      2.310550    1.237832    2.325354    5.946495    5.879806    1.814672   \n",
       "min      1.000000    2.000000    1.000000   18.700000    2.200000    0.900000   \n",
       "25%      3.000000    4.000000    7.000000   90.200000   15.400000    2.700000   \n",
       "50%      4.000000    4.000000    8.000000   91.600000   19.300000    4.000000   \n",
       "75%      7.000000    5.000000    9.000000   92.800000   22.800000    5.400000   \n",
       "max      9.000000    9.000000   12.000000   96.200000   33.300000    9.400000   \n",
       "\n",
       "             rain        area  \n",
       "count  413.000000  413.000000  \n",
       "mean     0.026634    1.116448  \n",
       "std      0.330882    1.392939  \n",
       "min      0.000000    0.000000  \n",
       "25%      0.000000    0.000000  \n",
       "50%      0.000000    0.438255  \n",
       "75%      0.000000    2.057963  \n",
       "max      6.400000    6.995620  "
      ]
     },
     "execution_count": 15,
     "metadata": {},
     "output_type": "execute_result"
    }
   ],
   "source": [
    "train.describe()"
   ]
  },
  {
   "cell_type": "code",
   "execution_count": 16,
   "metadata": {},
   "outputs": [
    {
     "data": {
      "text/html": [
       "<div>\n",
       "<style scoped>\n",
       "    .dataframe tbody tr th:only-of-type {\n",
       "        vertical-align: middle;\n",
       "    }\n",
       "\n",
       "    .dataframe tbody tr th {\n",
       "        vertical-align: top;\n",
       "    }\n",
       "\n",
       "    .dataframe thead th {\n",
       "        text-align: right;\n",
       "    }\n",
       "</style>\n",
       "<table border=\"1\" class=\"dataframe\">\n",
       "  <thead>\n",
       "    <tr style=\"text-align: right;\">\n",
       "      <th></th>\n",
       "      <th>x</th>\n",
       "      <th>y</th>\n",
       "      <th>month</th>\n",
       "      <th>FFMC</th>\n",
       "      <th>temp</th>\n",
       "      <th>wind</th>\n",
       "      <th>rain</th>\n",
       "      <th>area</th>\n",
       "    </tr>\n",
       "  </thead>\n",
       "  <tbody>\n",
       "    <tr>\n",
       "      <th>count</th>\n",
       "      <td>104.000000</td>\n",
       "      <td>104.000000</td>\n",
       "      <td>104.000000</td>\n",
       "      <td>104.000000</td>\n",
       "      <td>104.000000</td>\n",
       "      <td>104.000000</td>\n",
       "      <td>104.000000</td>\n",
       "      <td>104.000000</td>\n",
       "    </tr>\n",
       "    <tr>\n",
       "      <th>mean</th>\n",
       "      <td>4.798077</td>\n",
       "      <td>4.461538</td>\n",
       "      <td>7.615385</td>\n",
       "      <td>90.972115</td>\n",
       "      <td>19.117308</td>\n",
       "      <td>3.693269</td>\n",
       "      <td>0.001923</td>\n",
       "      <td>1.089495</td>\n",
       "    </tr>\n",
       "    <tr>\n",
       "      <th>std</th>\n",
       "      <td>2.333296</td>\n",
       "      <td>1.189950</td>\n",
       "      <td>2.072978</td>\n",
       "      <td>3.327947</td>\n",
       "      <td>5.527889</td>\n",
       "      <td>1.666184</td>\n",
       "      <td>0.019612</td>\n",
       "      <td>1.426674</td>\n",
       "    </tr>\n",
       "    <tr>\n",
       "      <th>min</th>\n",
       "      <td>1.000000</td>\n",
       "      <td>2.000000</td>\n",
       "      <td>2.000000</td>\n",
       "      <td>75.100000</td>\n",
       "      <td>4.600000</td>\n",
       "      <td>0.400000</td>\n",
       "      <td>0.000000</td>\n",
       "      <td>0.000000</td>\n",
       "    </tr>\n",
       "    <tr>\n",
       "      <th>25%</th>\n",
       "      <td>3.000000</td>\n",
       "      <td>4.000000</td>\n",
       "      <td>7.750000</td>\n",
       "      <td>90.075000</td>\n",
       "      <td>16.400000</td>\n",
       "      <td>2.700000</td>\n",
       "      <td>0.000000</td>\n",
       "      <td>0.000000</td>\n",
       "    </tr>\n",
       "    <tr>\n",
       "      <th>50%</th>\n",
       "      <td>4.000000</td>\n",
       "      <td>4.000000</td>\n",
       "      <td>8.000000</td>\n",
       "      <td>91.600000</td>\n",
       "      <td>19.350000</td>\n",
       "      <td>3.100000</td>\n",
       "      <td>0.000000</td>\n",
       "      <td>0.332580</td>\n",
       "    </tr>\n",
       "    <tr>\n",
       "      <th>75%</th>\n",
       "      <td>7.000000</td>\n",
       "      <td>5.000000</td>\n",
       "      <td>9.000000</td>\n",
       "      <td>92.900000</td>\n",
       "      <td>22.800000</td>\n",
       "      <td>4.900000</td>\n",
       "      <td>0.000000</td>\n",
       "      <td>2.005526</td>\n",
       "    </tr>\n",
       "    <tr>\n",
       "      <th>max</th>\n",
       "      <td>9.000000</td>\n",
       "      <td>9.000000</td>\n",
       "      <td>12.000000</td>\n",
       "      <td>96.200000</td>\n",
       "      <td>32.600000</td>\n",
       "      <td>8.900000</td>\n",
       "      <td>0.200000</td>\n",
       "      <td>5.633110</td>\n",
       "    </tr>\n",
       "  </tbody>\n",
       "</table>\n",
       "</div>"
      ],
      "text/plain": [
       "                x           y       month        FFMC        temp        wind  \\\n",
       "count  104.000000  104.000000  104.000000  104.000000  104.000000  104.000000   \n",
       "mean     4.798077    4.461538    7.615385   90.972115   19.117308    3.693269   \n",
       "std      2.333296    1.189950    2.072978    3.327947    5.527889    1.666184   \n",
       "min      1.000000    2.000000    2.000000   75.100000    4.600000    0.400000   \n",
       "25%      3.000000    4.000000    7.750000   90.075000   16.400000    2.700000   \n",
       "50%      4.000000    4.000000    8.000000   91.600000   19.350000    3.100000   \n",
       "75%      7.000000    5.000000    9.000000   92.900000   22.800000    4.900000   \n",
       "max      9.000000    9.000000   12.000000   96.200000   32.600000    8.900000   \n",
       "\n",
       "             rain        area  \n",
       "count  104.000000  104.000000  \n",
       "mean     0.001923    1.089495  \n",
       "std      0.019612    1.426674  \n",
       "min      0.000000    0.000000  \n",
       "25%      0.000000    0.000000  \n",
       "50%      0.000000    0.332580  \n",
       "75%      0.000000    2.005526  \n",
       "max      0.200000    5.633110  "
      ]
     },
     "execution_count": 16,
     "metadata": {},
     "output_type": "execute_result"
    }
   ],
   "source": [
    "test.describe()"
   ]
  },
  {
   "cell_type": "code",
   "execution_count": 17,
   "metadata": {},
   "outputs": [],
   "source": [
    "normalized_train = (train - train.mean())/train.std()"
   ]
  },
  {
   "cell_type": "code",
   "execution_count": 18,
   "metadata": {},
   "outputs": [
    {
     "data": {
      "text/html": [
       "<div>\n",
       "<style scoped>\n",
       "    .dataframe tbody tr th:only-of-type {\n",
       "        vertical-align: middle;\n",
       "    }\n",
       "\n",
       "    .dataframe tbody tr th {\n",
       "        vertical-align: top;\n",
       "    }\n",
       "\n",
       "    .dataframe thead th {\n",
       "        text-align: right;\n",
       "    }\n",
       "</style>\n",
       "<table border=\"1\" class=\"dataframe\">\n",
       "  <thead>\n",
       "    <tr style=\"text-align: right;\">\n",
       "      <th></th>\n",
       "      <th>x</th>\n",
       "      <th>y</th>\n",
       "      <th>month</th>\n",
       "      <th>FFMC</th>\n",
       "      <th>temp</th>\n",
       "      <th>wind</th>\n",
       "      <th>rain</th>\n",
       "      <th>area</th>\n",
       "    </tr>\n",
       "  </thead>\n",
       "  <tbody>\n",
       "    <tr>\n",
       "      <th>count</th>\n",
       "      <td>4.130000e+02</td>\n",
       "      <td>4.130000e+02</td>\n",
       "      <td>4.130000e+02</td>\n",
       "      <td>4.130000e+02</td>\n",
       "      <td>4.130000e+02</td>\n",
       "      <td>4.130000e+02</td>\n",
       "      <td>4.130000e+02</td>\n",
       "      <td>4.130000e+02</td>\n",
       "    </tr>\n",
       "    <tr>\n",
       "      <th>mean</th>\n",
       "      <td>-1.204310e-16</td>\n",
       "      <td>2.049746e-16</td>\n",
       "      <td>9.032323e-17</td>\n",
       "      <td>7.659598e-15</td>\n",
       "      <td>-1.052158e-15</td>\n",
       "      <td>-1.940874e-16</td>\n",
       "      <td>-2.224478e-16</td>\n",
       "      <td>-8.924795e-17</td>\n",
       "    </tr>\n",
       "    <tr>\n",
       "      <th>std</th>\n",
       "      <td>1.000000e+00</td>\n",
       "      <td>1.000000e+00</td>\n",
       "      <td>1.000000e+00</td>\n",
       "      <td>1.000000e+00</td>\n",
       "      <td>1.000000e+00</td>\n",
       "      <td>1.000000e+00</td>\n",
       "      <td>1.000000e+00</td>\n",
       "      <td>1.000000e+00</td>\n",
       "    </tr>\n",
       "    <tr>\n",
       "      <th>min</th>\n",
       "      <td>-1.573999e+00</td>\n",
       "      <td>-1.825029e+00</td>\n",
       "      <td>-2.769762e+00</td>\n",
       "      <td>-1.208480e+01</td>\n",
       "      <td>-2.828617e+00</td>\n",
       "      <td>-1.763004e+00</td>\n",
       "      <td>-8.049505e-02</td>\n",
       "      <td>-8.015049e-01</td>\n",
       "    </tr>\n",
       "    <tr>\n",
       "      <th>25%</th>\n",
       "      <td>-7.084044e-01</td>\n",
       "      <td>-2.093013e-01</td>\n",
       "      <td>-1.895100e-01</td>\n",
       "      <td>-6.091447e-02</td>\n",
       "      <td>-5.836449e-01</td>\n",
       "      <td>-7.710891e-01</td>\n",
       "      <td>-8.049505e-02</td>\n",
       "      <td>-8.015049e-01</td>\n",
       "    </tr>\n",
       "    <tr>\n",
       "      <th>50%</th>\n",
       "      <td>-2.756070e-01</td>\n",
       "      <td>-2.093013e-01</td>\n",
       "      <td>2.405319e-01</td>\n",
       "      <td>1.745183e-01</td>\n",
       "      <td>7.964223e-02</td>\n",
       "      <td>-5.470610e-02</td>\n",
       "      <td>-8.049505e-02</td>\n",
       "      <td>-4.868788e-01</td>\n",
       "    </tr>\n",
       "    <tr>\n",
       "      <th>75%</th>\n",
       "      <td>1.022785e+00</td>\n",
       "      <td>5.985625e-01</td>\n",
       "      <td>6.705739e-01</td>\n",
       "      <td>3.763179e-01</td>\n",
       "      <td>6.748999e-01</td>\n",
       "      <td>7.167833e-01</td>\n",
       "      <td>-8.049505e-02</td>\n",
       "      <td>6.759197e-01</td>\n",
       "    </tr>\n",
       "    <tr>\n",
       "      <th>max</th>\n",
       "      <td>1.888380e+00</td>\n",
       "      <td>3.830018e+00</td>\n",
       "      <td>1.960700e+00</td>\n",
       "      <td>9.480833e-01</td>\n",
       "      <td>2.460673e+00</td>\n",
       "      <td>2.921039e+00</td>\n",
       "      <td>1.926173e+01</td>\n",
       "      <td>4.220696e+00</td>\n",
       "    </tr>\n",
       "  </tbody>\n",
       "</table>\n",
       "</div>"
      ],
      "text/plain": [
       "                  x             y         month          FFMC          temp  \\\n",
       "count  4.130000e+02  4.130000e+02  4.130000e+02  4.130000e+02  4.130000e+02   \n",
       "mean  -1.204310e-16  2.049746e-16  9.032323e-17  7.659598e-15 -1.052158e-15   \n",
       "std    1.000000e+00  1.000000e+00  1.000000e+00  1.000000e+00  1.000000e+00   \n",
       "min   -1.573999e+00 -1.825029e+00 -2.769762e+00 -1.208480e+01 -2.828617e+00   \n",
       "25%   -7.084044e-01 -2.093013e-01 -1.895100e-01 -6.091447e-02 -5.836449e-01   \n",
       "50%   -2.756070e-01 -2.093013e-01  2.405319e-01  1.745183e-01  7.964223e-02   \n",
       "75%    1.022785e+00  5.985625e-01  6.705739e-01  3.763179e-01  6.748999e-01   \n",
       "max    1.888380e+00  3.830018e+00  1.960700e+00  9.480833e-01  2.460673e+00   \n",
       "\n",
       "               wind          rain          area  \n",
       "count  4.130000e+02  4.130000e+02  4.130000e+02  \n",
       "mean  -1.940874e-16 -2.224478e-16 -8.924795e-17  \n",
       "std    1.000000e+00  1.000000e+00  1.000000e+00  \n",
       "min   -1.763004e+00 -8.049505e-02 -8.015049e-01  \n",
       "25%   -7.710891e-01 -8.049505e-02 -8.015049e-01  \n",
       "50%   -5.470610e-02 -8.049505e-02 -4.868788e-01  \n",
       "75%    7.167833e-01 -8.049505e-02  6.759197e-01  \n",
       "max    2.921039e+00  1.926173e+01  4.220696e+00  "
      ]
     },
     "execution_count": 18,
     "metadata": {},
     "output_type": "execute_result"
    }
   ],
   "source": [
    "normalized_train.describe()"
   ]
  },
  {
   "cell_type": "code",
   "execution_count": 19,
   "metadata": {},
   "outputs": [],
   "source": [
    "normalized_test = (test - train.mean())/train.std()"
   ]
  },
  {
   "cell_type": "code",
   "execution_count": 20,
   "metadata": {},
   "outputs": [
    {
     "data": {
      "text/html": [
       "<div>\n",
       "<style scoped>\n",
       "    .dataframe tbody tr th:only-of-type {\n",
       "        vertical-align: middle;\n",
       "    }\n",
       "\n",
       "    .dataframe tbody tr th {\n",
       "        vertical-align: top;\n",
       "    }\n",
       "\n",
       "    .dataframe thead th {\n",
       "        text-align: right;\n",
       "    }\n",
       "</style>\n",
       "<table border=\"1\" class=\"dataframe\">\n",
       "  <thead>\n",
       "    <tr style=\"text-align: right;\">\n",
       "      <th></th>\n",
       "      <th>x</th>\n",
       "      <th>y</th>\n",
       "      <th>month</th>\n",
       "      <th>FFMC</th>\n",
       "      <th>temp</th>\n",
       "      <th>wind</th>\n",
       "      <th>rain</th>\n",
       "      <th>area</th>\n",
       "    </tr>\n",
       "  </thead>\n",
       "  <tbody>\n",
       "    <tr>\n",
       "      <th>count</th>\n",
       "      <td>104.000000</td>\n",
       "      <td>104.000000</td>\n",
       "      <td>104.000000</td>\n",
       "      <td>104.000000</td>\n",
       "      <td>104.000000</td>\n",
       "      <td>104.000000</td>\n",
       "      <td>104.000000</td>\n",
       "      <td>104.000000</td>\n",
       "    </tr>\n",
       "    <tr>\n",
       "      <th>mean</th>\n",
       "      <td>0.069799</td>\n",
       "      <td>0.163559</td>\n",
       "      <td>0.075131</td>\n",
       "      <td>0.068929</td>\n",
       "      <td>0.048571</td>\n",
       "      <td>-0.223734</td>\n",
       "      <td>-0.074683</td>\n",
       "      <td>-0.019349</td>\n",
       "    </tr>\n",
       "    <tr>\n",
       "      <th>std</th>\n",
       "      <td>1.009844</td>\n",
       "      <td>0.961318</td>\n",
       "      <td>0.891467</td>\n",
       "      <td>0.559649</td>\n",
       "      <td>0.940148</td>\n",
       "      <td>0.918174</td>\n",
       "      <td>0.059271</td>\n",
       "      <td>1.024218</td>\n",
       "    </tr>\n",
       "    <tr>\n",
       "      <th>min</th>\n",
       "      <td>-1.573999</td>\n",
       "      <td>-1.825029</td>\n",
       "      <td>-2.339720</td>\n",
       "      <td>-2.600225</td>\n",
       "      <td>-2.420440</td>\n",
       "      <td>-2.038536</td>\n",
       "      <td>-0.080495</td>\n",
       "      <td>-0.801505</td>\n",
       "    </tr>\n",
       "    <tr>\n",
       "      <th>25%</th>\n",
       "      <td>-0.708404</td>\n",
       "      <td>-0.209301</td>\n",
       "      <td>0.133021</td>\n",
       "      <td>-0.081935</td>\n",
       "      <td>-0.413571</td>\n",
       "      <td>-0.771089</td>\n",
       "      <td>-0.080495</td>\n",
       "      <td>-0.801505</td>\n",
       "    </tr>\n",
       "    <tr>\n",
       "      <th>50%</th>\n",
       "      <td>-0.275607</td>\n",
       "      <td>-0.209301</td>\n",
       "      <td>0.240532</td>\n",
       "      <td>0.174518</td>\n",
       "      <td>0.088146</td>\n",
       "      <td>-0.550664</td>\n",
       "      <td>-0.080495</td>\n",
       "      <td>-0.562744</td>\n",
       "    </tr>\n",
       "    <tr>\n",
       "      <th>75%</th>\n",
       "      <td>1.022785</td>\n",
       "      <td>0.598562</td>\n",
       "      <td>0.670574</td>\n",
       "      <td>0.393135</td>\n",
       "      <td>0.674900</td>\n",
       "      <td>0.441251</td>\n",
       "      <td>-0.080495</td>\n",
       "      <td>0.638275</td>\n",
       "    </tr>\n",
       "    <tr>\n",
       "      <th>max</th>\n",
       "      <td>1.888380</td>\n",
       "      <td>3.830018</td>\n",
       "      <td>1.960700</td>\n",
       "      <td>0.948083</td>\n",
       "      <td>2.341621</td>\n",
       "      <td>2.645507</td>\n",
       "      <td>0.523950</td>\n",
       "      <td>3.242541</td>\n",
       "    </tr>\n",
       "  </tbody>\n",
       "</table>\n",
       "</div>"
      ],
      "text/plain": [
       "                x           y       month        FFMC        temp        wind  \\\n",
       "count  104.000000  104.000000  104.000000  104.000000  104.000000  104.000000   \n",
       "mean     0.069799    0.163559    0.075131    0.068929    0.048571   -0.223734   \n",
       "std      1.009844    0.961318    0.891467    0.559649    0.940148    0.918174   \n",
       "min     -1.573999   -1.825029   -2.339720   -2.600225   -2.420440   -2.038536   \n",
       "25%     -0.708404   -0.209301    0.133021   -0.081935   -0.413571   -0.771089   \n",
       "50%     -0.275607   -0.209301    0.240532    0.174518    0.088146   -0.550664   \n",
       "75%      1.022785    0.598562    0.670574    0.393135    0.674900    0.441251   \n",
       "max      1.888380    3.830018    1.960700    0.948083    2.341621    2.645507   \n",
       "\n",
       "             rain        area  \n",
       "count  104.000000  104.000000  \n",
       "mean    -0.074683   -0.019349  \n",
       "std      0.059271    1.024218  \n",
       "min     -0.080495   -0.801505  \n",
       "25%     -0.080495   -0.801505  \n",
       "50%     -0.080495   -0.562744  \n",
       "75%     -0.080495    0.638275  \n",
       "max      0.523950    3.242541  "
      ]
     },
     "execution_count": 20,
     "metadata": {},
     "output_type": "execute_result"
    }
   ],
   "source": [
    "normalized_test.describe()"
   ]
  },
  {
   "cell_type": "code",
   "execution_count": 21,
   "metadata": {},
   "outputs": [],
   "source": [
    "month = np.zeros((train.shape[0], 12))\n",
    "count = 0\n",
    "for i in train['month']:\n",
    "    month[count, int(i)-1] = 1\n",
    "    count += 1\n",
    "normalized_month = (month-np.mean(month))/np.std(month)"
   ]
  },
  {
   "cell_type": "code",
   "execution_count": 22,
   "metadata": {},
   "outputs": [],
   "source": [
    "month2 = np.zeros((test.shape[0], 12))\n",
    "count = 0\n",
    "for i in test['month']:\n",
    "    month2[count, int(i)-1] = 1\n",
    "    count += 1\n",
    "normalized_month2 = (month2-np.mean(month))/np.std(month)"
   ]
  },
  {
   "cell_type": "code",
   "execution_count": 24,
   "metadata": {},
   "outputs": [],
   "source": [
    "pi = np.pi\n",
    "sin_month = np.zeros((train.shape[0], 2))\n",
    "count = 0\n",
    "for i in train['month']:\n",
    "    sin_month[count][0] = np.sin(2*pi*i/12)\n",
    "    sin_month[count][1] = np.cos(2*pi*i/12)"
   ]
  },
  {
   "cell_type": "code",
   "execution_count": 27,
   "metadata": {},
   "outputs": [],
   "source": [
    "sin_month2 = np.zeros((test.shape[0],2))\n",
    "count = 0 \n",
    "for i in test['month']:\n",
    "    sin_month2[count][0] = np.sin(2*pi*i/12)\n",
    "    sin_month2[count][1] = np.cos(2*pi*i/12)"
   ]
  },
  {
   "cell_type": "code",
   "execution_count": 28,
   "metadata": {},
   "outputs": [],
   "source": [
    "norm_sin_month = (sin_month - np.mean(sin_month))/np.std(sin_month)\n",
    "norm_sin_month2 = (sin_month2 - np.mean(sin_month))/np.std(sin_month)"
   ]
  },
  {
   "cell_type": "code",
   "execution_count": 25,
   "metadata": {},
   "outputs": [
    {
     "data": {
      "text/plain": [
       "14     8.0\n",
       "268    8.0\n",
       "74     8.0\n",
       "336    8.0\n",
       "57     8.0\n",
       "      ... \n",
       "261    8.0\n",
       "477    8.0\n",
       "345    9.0\n",
       "29     3.0\n",
       "383    3.0\n",
       "Name: month, Length: 413, dtype: float64"
      ]
     },
     "execution_count": 25,
     "metadata": {},
     "output_type": "execute_result"
    }
   ],
   "source": [
    "train['month']"
   ]
  },
  {
   "cell_type": "code",
   "execution_count": 29,
   "metadata": {},
   "outputs": [],
   "source": [
    "A = np.column_stack((np.ones(normalized_train.shape[0]), normalized_train[['x','y']], normalized_month, normalized_train[['FFMC', 'temp', 'wind', 'rain']]))\n",
    "Atest = np.column_stack((np.ones(normalized_test.shape[0]), normalized_test[['x','y']], normalized_month2, normalized_test[['FFMC', 'temp', 'wind', 'rain']]))\n",
    "b = np.array(target)[Itrain]\n",
    "btest = np.array(target)[Itest]"
   ]
  },
  {
   "cell_type": "code",
   "execution_count": 30,
   "metadata": {},
   "outputs": [
    {
     "name": "stdout",
     "output_type": "stream",
     "text": [
      "[ 1.          1.45558237  1.40642625 -0.30151134 -0.30151134 -0.30151134\n",
      " -0.30151134 -0.30151134 -0.30151134 -0.30151134  3.31662479 -0.30151134\n",
      " -0.30151134 -0.30151134 -0.30151134  0.52766754  0.01161278  0.44125138\n",
      " -0.08049505]\n",
      "[ 1.          0.58998767  0.59856249 -0.30151134 -0.30151134 -0.30151134\n",
      " -0.30151134 -0.30151134  3.31662479 -0.30151134 -0.30151134 -0.30151134\n",
      " -0.30151134 -0.30151134 -0.30151134 -0.02728121  0.31774531  0.44125138\n",
      " -0.08049505]\n"
     ]
    }
   ],
   "source": [
    "print(A[0])\n",
    "print(Atest[0])"
   ]
  },
  {
   "cell_type": "code",
   "execution_count": 31,
   "metadata": {},
   "outputs": [],
   "source": [
    "lambdas = 10**np.linspace(-1, 5, num=200)"
   ]
  },
  {
   "cell_type": "code",
   "execution_count": 32,
   "metadata": {},
   "outputs": [],
   "source": [
    "theta = np.zeros((200, A.shape[1]))\n",
    "rmse = np.zeros(200)\n",
    "trmse = np.zeros(200)"
   ]
  },
  {
   "cell_type": "code",
   "execution_count": 33,
   "metadata": {},
   "outputs": [],
   "source": [
    "for i in range(200):\n",
    "    A_tilde = np.vstack((A,np.sqrt(lambdas[i])*np.eye(A.shape[1])))\n",
    "    b_tilde = np.hstack((b, np.zeros(A.shape[1])))\n",
    "    theta[i] = solve_via_backsub(A_tilde, b_tilde)\n",
    "    rmse[i] = (sum((A@theta[i]-b)**2)/len(b))**0.5\n",
    "    trmse[i] = (sum((Atest@theta[i]-btest)**2)/len(btest))**0.5"
   ]
  },
  {
   "cell_type": "code",
   "execution_count": 34,
   "metadata": {},
   "outputs": [
    {
     "data": {
      "text/plain": [
       "Text(0.5, 0, 'lambdas')"
      ]
     },
     "execution_count": 34,
     "metadata": {},
     "output_type": "execute_result"
    },
    {
     "data": {
      "image/png": "[encoded data removed]",
      "text/plain": [
       "<Figure size 864x576 with 1 Axes>"
      ]
     },
     "metadata": {
      "needs_background": "light"
     },
     "output_type": "display_data"
    }
   ],
   "source": [
    "plt.figure(figsize=(12,8))\n",
    "plt.xscale('log')\n",
    "plt.plot(lambdas, rmse)\n",
    "plt.plot(lambdas, trmse)\n",
    "plt.legend(['rmse', 'trmse'])\n",
    "plt.xlabel('lambdas')"
   ]
  },
  {
   "cell_type": "code",
   "execution_count": 35,
   "metadata": {},
   "outputs": [
    {
     "data": {
      "text/plain": [
       "80"
      ]
     },
     "execution_count": 35,
     "metadata": {},
     "output_type": "execute_result"
    }
   ],
   "source": [
    "np.argmin(trmse)"
   ]
  },
  {
   "cell_type": "code",
   "execution_count": 37,
   "metadata": {},
   "outputs": [],
   "source": [
    "A = np.column_stack((np.ones(normalized_train.shape[0]), normalized_train[['x','y']], norm_sin_month, normalized_train[['FFMC', 'temp', 'wind', 'rain']]))\n",
    "Atest = np.column_stack((np.ones(normalized_test.shape[0]), normalized_test[['x','y']], norm_sin_month2, normalized_test[['FFMC', 'temp', 'wind', 'rain']]))\n",
    "b = np.array(target)[Itrain]\n",
    "btest = np.array(target)[Itest]"
   ]
  },
  {
   "cell_type": "code",
   "execution_count": 38,
   "metadata": {},
   "outputs": [],
   "source": [
    "lambdas = 10**np.linspace(-1, 5, num=200)\n",
    "theta = np.zeros((200, A.shape[1]))\n",
    "rmse = np.zeros(200)\n",
    "trmse = np.zeros(200)"
   ]
  },
  {
   "cell_type": "code",
   "execution_count": 39,
   "metadata": {},
   "outputs": [],
   "source": [
    "for i in range(200):\n",
    "    A_tilde = np.vstack((A,np.sqrt(lambdas[i])*np.eye(A.shape[1])))\n",
    "    b_tilde = np.hstack((b, np.zeros(A.shape[1])))\n",
    "    theta[i] = solve_via_backsub(A_tilde, b_tilde)\n",
    "    rmse[i] = (sum((A@theta[i]-b)**2)/len(b))**0.5\n",
    "    trmse[i] = (sum((Atest@theta[i]-btest)**2)/len(btest))**0.5"
   ]
  },
  {
   "cell_type": "code",
   "execution_count": 40,
   "metadata": {},
   "outputs": [
    {
     "data": {
      "text/plain": [
       "Text(0.5, 0, 'lambdas')"
      ]
     },
     "execution_count": 40,
     "metadata": {},
     "output_type": "execute_result"
    },
    {
     "data": {
      "image/png": "[encoded data removed]",
      "text/plain": [
       "<Figure size 864x576 with 1 Axes>"
      ]
     },
     "metadata": {
      "needs_background": "light"
     },
     "output_type": "display_data"
    }
   ],
   "source": [
    "plt.figure(figsize=(12,8))\n",
    "plt.xscale('log')\n",
    "plt.plot(lambdas, rmse)\n",
    "plt.plot(lambdas, trmse)\n",
    "plt.legend(['rmse', 'trmse'])\n",
    "plt.xlabel('lambdas')"
   ]
  },
  {
   "cell_type": "code",
   "execution_count": 41,
   "metadata": {},
   "outputs": [
    {
     "data": {
      "text/plain": [
       "74"
      ]
     },
     "execution_count": 41,
     "metadata": {},
     "output_type": "execute_result"
    }
   ],
   "source": [
    "np.argmin(trmse)"
   ]
  }
 ],
 "metadata": {
  "kernelspec": {
   "display_name": "Python 3",
   "language": "python",
   "name": "python3"
  },
  "language_info": {
   "codemirror_mode": {
    "name": "ipython",
    "version": 3
   },
   "file_extension": ".py",
   "mimetype": "text/x-python",
   "name": "python",
   "nbconvert_exporter": "python",
   "pygments_lexer": "ipython3",
   "version": "3.8.3"
  }
 },
 "nbformat": 4,
 "nbformat_minor": 4
}
