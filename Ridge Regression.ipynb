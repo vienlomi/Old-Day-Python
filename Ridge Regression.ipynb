{
 "cells": [
  {
   "cell_type": "code",
   "execution_count": null,
   "metadata": {},
   "outputs": [],
   "source": [
    "import pandas as pd\n",
    "import numpy as np\n",
    "import matplotlib.pyplot as plt\n"
   ]
  },
  {
   "cell_type": "code",
   "execution_count": null,
   "metadata": {},
   "outputs": [],
   "source": [
    "def back_sub(R, b_tilde):\n",
    "    n = R.shape[0]\n",
    "    x = np.zeros(n)\n",
    "    for i in reversed(range(n)):\n",
    "        x[i] = b_tilde[i]\n",
    "        for j in range(i+1, n):\n",
    "            x[i] = x[i] - R[i][j]*x[j]\n",
    "        x[i] = x[i]/R[i,i]\n",
    "    return x\n",
    "\n",
    "def solve_via_backsub(A, b):\n",
    "    Q, R = np.linalg.qr(A)\n",
    "    b_tilde = Q.T @ b\n",
    "    return back_sub(R, b_tilde)\n",
    "    "
   ]
  },
  {
   "cell_type": "code",
   "execution_count": null,
   "metadata": {},
   "outputs": [],
   "source": [
    "def solve_ridge(A, b, lambdas):\n",
    "    n = len(b)\n",
    "    A_tilde = np.vstack((A, np.sqrt(lambdas)*np.eye(A.shape[1])))\n",
    "    b_tilde = np.hstack((b, np.zeros(A.shape[1])))\n",
    "    return solve_via_backsub(A_tilde, b_tilde)\n"
   ]
  },
  {
   "cell_type": "code",
   "execution_count": null,
   "metadata": {},
   "outputs": [],
   "source": [
    "def solve_ridge2(A, b, lambdas):\n",
    "    return np.linalg.inv(A.T @ A + lambdas*np.eye(A.shape[1]))@A.T @ b"
   ]
  },
  {
   "cell_type": "code",
   "execution_count": null,
   "metadata": {},
   "outputs": [],
   "source": [
    "college = pd.read_csv('./datasets/College.csv')\n",
    "college['isPrivate'] = college['Private'].replace({'Yes': 1, 'No': 0})\n",
    "college.head()"
   ]
  },
  {
   "cell_type": "code",
   "execution_count": null,
   "metadata": {},
   "outputs": [],
   "source": [
    "Io = np.random.permutation(777)\n",
    "test = np.array(Io[:100])\n",
    "train = np.array(Io[100:])"
   ]
  },
  {
   "cell_type": "code",
   "execution_count": null,
   "metadata": {},
   "outputs": [],
   "source": [
    "folds = 5\n",
    "I = np.array_split(np.random.permutation(train), folds)\n",
    "trainrmse = np.zeros(5)\n",
    "testrmse = np.zeros(5)\n",
    "pa = ['Accept', 'Enroll', 'Top10perc','Top25perc', 'F.Undergrad', 'P.Undergrad', 'Outstate', 'Room.Board',\n",
    "       'Books', 'Personal', 'PhD', 'Terminal', 'S.F.Ratio', 'perc.alumni',\n",
    "       'Expend', 'Grad.Rate', 'isPrivate']\n",
    "coeff = np.zeros((len(pa), n))\n"
   ]
  },
  {
   "cell_type": "code",
   "execution_count": null,
   "metadata": {},
   "outputs": [],
   "source": [
    "A = college[pa].iloc[train]\n",
    "b = college['Apps'].iloc[train]\n",
    "Atest = college[pa].iloc[test]\n",
    "btest = college['Apps'].iloc[test]\n",
    "#A1 = np.column_stack((np.ones(len(b)), A))\n",
    "n = 100\n",
    "lambdas = np.power(10, np.linspace(-6, 6, n))\n"
   ]
  },
  {
   "cell_type": "code",
   "execution_count": null,
   "metadata": {
    "scrolled": true
   },
   "outputs": [],
   "source": [
    "for k in range(n):\n",
    "    coeff[: ,k] = solve_ridge(A, b, lambdas[k])\n",
    "plt.figure(figsize=(20, 15))\n",
    "plt.plot(lambdas, coeff.T)\n",
    "plt.xscale('log')\n",
    "plt.xlabel('lambdas')\n",
    "plt.xlim(1e-6, 1e+6)\n",
    "plt.legend(['Accept', 'Enroll', 'Top10perc','Top25perc', 'F.Undergrad', 'P.Undergrad', 'Outstate', 'Room.Board',\n",
    "       'Books', 'Personal', 'PhD', 'Terminal', 'S.F.Ratio', 'perc.alumni',\n",
    "       'Expend', 'Grad.Rate', 'isPrivate'])\n",
    "plt.show()\n"
   ]
  },
  {
   "cell_type": "code",
   "execution_count": null,
   "metadata": {},
   "outputs": [],
   "source": [
    "tester = np.zeros(n)\n",
    "for k in range(n):\n",
    "    tester[k] = (sum((Atest @ coeff[:,k]-btest)**2)/len(btest))**0.5"
   ]
  },
  {
   "cell_type": "code",
   "execution_count": null,
   "metadata": {},
   "outputs": [],
   "source": [
    "plt.figure(figsize=(10,10))\n",
    "plt.plot(lambdas, tester)\n",
    "plt.xscale('log')\n",
    "plt.xlabel(lambdas)\n",
    "\n",
    "plt.xlim(1e-6,1e+6)\n",
    "\n",
    "plt.show()"
   ]
  }
 ],
 "metadata": {
  "kernelspec": {
   "display_name": "Python 3",
   "language": "python",
   "name": "python3"
  },
  "language_info": {
   "codemirror_mode": {
    "name": "ipython",
    "version": 3
   },
   "file_extension": ".py",
   "mimetype": "text/x-python",
   "name": "python",
   "nbconvert_exporter": "python",
   "pygments_lexer": "ipython3",
   "version": "3.8.3"
  }
 },
 "nbformat": 4,
 "nbformat_minor": 4
}
